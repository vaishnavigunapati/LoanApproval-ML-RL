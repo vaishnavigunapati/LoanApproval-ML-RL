{
 "cells": [
  {
   "cell_type": "code",
   "execution_count": null,
   "id": "40d228e9",
   "metadata": {},
   "outputs": [],
   "source": [
    "import kagglehub\n",
    "\n",
    "# Download latest version\n",
    "path = kagglehub.dataset_download(\"wordsforthewise/lending-club\")\n",
    "\n",
    "print(\"Path to dataset files:\", path)"
   ]
  }
 ],
 "metadata": {
  "language_info": {
   "name": "python"
  }
 },
 "nbformat": 4,
 "nbformat_minor": 5
}
